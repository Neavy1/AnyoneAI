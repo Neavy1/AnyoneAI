{
  "nbformat": 4,
  "nbformat_minor": 0,
  "metadata": {
    "colab": {
      "provenance": [],
      "include_colab_link": true
    },
    "kernelspec": {
      "name": "python3",
      "display_name": "Python 3"
    },
    "language_info": {
      "name": "python"
    }
  },
  "cells": [
    {
      "cell_type": "markdown",
      "metadata": {
        "id": "view-in-github",
        "colab_type": "text"
      },
      "source": [
        "<a href=\"https://colab.research.google.com/github/Neavy1/AnyoneAI/blob/main/0_0_1_THEORY_Python_Assignment_Text_Analysis.ipynb\" target=\"_parent\"><img src=\"https://colab.research.google.com/assets/colab-badge.svg\" alt=\"Open In Colab\"/></a>"
      ]
    },
    {
      "cell_type": "markdown",
      "source": [
        "### Download the dataset"
      ],
      "metadata": {
        "id": "HpbE0wL5bGvc"
      }
    },
    {
      "cell_type": "code",
      "execution_count": 5,
      "metadata": {
        "colab": {
          "base_uri": "https://localhost:8080/"
        },
        "id": "9L7CnU3KjCUe",
        "outputId": "06ffb5c4-4363-4395-8e1b-254b74b8b458"
      },
      "outputs": [
        {
          "output_type": "stream",
          "name": "stdout",
          "text": [
            "Downloading...\n",
            "From (original): https://drive.google.com/uc?id=1UOF-7R5MHXTQcCPp7rPMZTFZZSCmKzko\n",
            "From (redirected): https://drive.google.com/uc?id=1UOF-7R5MHXTQcCPp7rPMZTFZZSCmKzko&confirm=t&uuid=821b6038-ebb9-420d-b6aa-a4a68110e670\n",
            "To: /content/registered-names-1922-2015.csv\n",
            "100% 221M/221M [00:01<00:00, 133MB/s]\n"
          ]
        }
      ],
      "source": [
        "!gdown 1UOF-7R5MHXTQcCPp7rPMZTFZZSCmKzko"
      ]
    },
    {
      "cell_type": "markdown",
      "source": [
        "### Load the dataset"
      ],
      "metadata": {
        "id": "WOPUwmqhbLjm"
      }
    },
    {
      "cell_type": "code",
      "source": [
        "import csv"
      ],
      "metadata": {
        "id": "jIY848NKjFoa"
      },
      "execution_count": 6,
      "outputs": []
    },
    {
      "cell_type": "code",
      "source": [
        "import os\n",
        "os.getcwd()"
      ],
      "metadata": {
        "colab": {
          "base_uri": "https://localhost:8080/",
          "height": 36
        },
        "id": "CMJACzksxHfW",
        "outputId": "c1e636bf-0e9d-466c-d1f3-8eb64c296a87"
      },
      "execution_count": 7,
      "outputs": [
        {
          "output_type": "execute_result",
          "data": {
            "text/plain": [
              "'/content'"
            ],
            "application/vnd.google.colaboratory.intrinsic+json": {
              "type": "string"
            }
          },
          "metadata": {},
          "execution_count": 7
        }
      ]
    },
    {
      "cell_type": "code",
      "source": [
        "# simply open it\n",
        "with open(\"/content/registered-names-1922-2015.csv\") as csvfile:\n",
        "    reader = csv.DictReader(csvfile)\n",
        "\n",
        "    count = 10\n",
        "    for idx, row in enumerate(reader):\n",
        "        print(row)\n",
        "        if idx == count:\n",
        "            break\n"
      ],
      "metadata": {
        "colab": {
          "base_uri": "https://localhost:8080/"
        },
        "id": "ld7XbhH3jFlg",
        "outputId": "b9aa058e-692a-478f-c51e-069dc6088ccf"
      },
      "execution_count": 8,
      "outputs": [
        {
          "output_type": "stream",
          "name": "stdout",
          "text": [
            "{'name': 'Maria', 'count': '314', 'year': '1922'}\n",
            "{'name': 'Rosa', 'count': '203', 'year': '1922'}\n",
            "{'name': 'Jose', 'count': '163', 'year': '1922'}\n",
            "{'name': 'Maria Luisa', 'count': '127', 'year': '1922'}\n",
            "{'name': 'Carmen', 'count': '117', 'year': '1922'}\n",
            "{'name': 'Ana', 'count': '113', 'year': '1922'}\n",
            "{'name': 'Maria Elena', 'count': '112', 'year': '1922'}\n",
            "{'name': 'Juana', 'count': '111', 'year': '1922'}\n",
            "{'name': 'Maria Esther', 'count': '109', 'year': '1922'}\n",
            "{'name': 'Antonio', 'count': '103', 'year': '1922'}\n",
            "{'name': 'Elena', 'count': '102', 'year': '1922'}\n"
          ]
        }
      ]
    },
    {
      "cell_type": "code",
      "source": [
        "# See the number of rows\n",
        "with open(\"/content/registered-names-1922-2015.csv\") as csvfile:\n",
        "    reader = csv.DictReader(csvfile)\n",
        "\n",
        "    count = 0\n",
        "    for row in reader:\n",
        "        count += 1\n",
        "    print(count)"
      ],
      "metadata": {
        "id": "pX3XNtu4cgmu",
        "colab": {
          "base_uri": "https://localhost:8080/"
        },
        "outputId": "d951aff9-5f7f-4e23-eb65-e2b63f59cde3"
      },
      "execution_count": 9,
      "outputs": [
        {
          "output_type": "stream",
          "name": "stdout",
          "text": [
            "9761609\n"
          ]
        }
      ]
    },
    {
      "cell_type": "markdown",
      "source": [
        "How many people were registered each year?"
      ],
      "metadata": {
        "id": "p2-gNZdbwjGY"
      }
    },
    {
      "cell_type": "code",
      "source": [
        "from collections import defaultdict\n",
        "\n",
        "year_counts = defaultdict(int)\n",
        "\n",
        "with open(\"/content/registered-names-1922-2015.csv\") as csvfile:\n",
        "    reader = csv.DictReader(csvfile)\n",
        "\n",
        "    for row in reader:\n",
        "        year = row['year']\n",
        "        year_counts[year] += 1\n",
        "\n",
        "for year, count in sorted(year_counts.items()):\n",
        "    print(f\"{year}: {count}\")"
      ],
      "metadata": {
        "colab": {
          "base_uri": "https://localhost:8080/"
        },
        "id": "fUFxOa6mj-OD",
        "outputId": "895706cd-7951-4fb4-b722-3999d9bf4103"
      },
      "execution_count": 10,
      "outputs": [
        {
          "output_type": "stream",
          "name": "stdout",
          "text": [
            "1922: 10333\n",
            "1923: 12777\n",
            "1924: 15981\n",
            "1925: 18796\n",
            "1926: 22172\n",
            "1927: 26300\n",
            "1928: 30568\n",
            "1929: 34326\n",
            "1930: 39274\n",
            "1931: 42654\n",
            "1932: 47104\n",
            "1933: 48947\n",
            "1934: 52242\n",
            "1935: 56708\n",
            "1936: 58945\n",
            "1937: 61885\n",
            "1938: 64313\n",
            "1939: 67257\n",
            "1940: 71183\n",
            "1941: 70846\n",
            "1942: 51895\n",
            "1943: 75407\n",
            "1944: 70764\n",
            "1945: 74191\n",
            "1946: 76378\n",
            "1947: 78452\n",
            "1948: 79797\n",
            "1949: 79574\n",
            "1950: 81136\n",
            "1951: 69126\n",
            "1952: 81223\n",
            "1953: 81881\n",
            "1954: 82290\n",
            "1955: 83095\n",
            "1956: 87016\n",
            "1957: 88114\n",
            "1958: 87975\n",
            "1959: 88716\n",
            "1960: 90635\n",
            "1961: 91472\n",
            "1962: 93612\n",
            "1963: 92490\n",
            "1964: 92541\n",
            "1965: 91357\n",
            "1966: 89514\n",
            "1967: 89320\n",
            "1968: 88872\n",
            "1969: 90107\n",
            "1970: 92448\n",
            "1971: 97071\n",
            "1972: 99703\n",
            "1973: 100853\n",
            "1974: 103708\n",
            "1975: 109924\n",
            "1976: 112869\n",
            "1977: 118300\n",
            "1978: 120954\n",
            "1979: 124527\n",
            "1980: 71523\n",
            "1981: 126830\n",
            "1982: 130073\n",
            "1983: 130685\n",
            "1984: 133308\n",
            "1985: 137275\n",
            "1986: 142666\n",
            "1987: 148979\n",
            "1988: 151530\n",
            "1989: 157654\n",
            "1990: 165984\n",
            "1991: 173828\n",
            "1992: 168943\n",
            "1993: 166232\n",
            "1994: 169250\n",
            "1995: 169102\n",
            "1996: 167212\n",
            "1997: 70252\n",
            "1998: 158459\n",
            "1999: 157782\n",
            "2000: 158179\n",
            "2001: 150701\n",
            "2002: 154105\n",
            "2003: 163210\n",
            "2004: 171119\n",
            "2005: 166630\n",
            "2006: 162916\n",
            "2007: 158753\n",
            "2008: 159794\n",
            "2009: 77367\n",
            "2010: 135000\n",
            "2011: 119431\n",
            "2012: 203486\n",
            "2013: 204470\n",
            "2014: 209107\n",
            "2015: 209856\n"
          ]
        }
      ]
    },
    {
      "cell_type": "markdown",
      "source": [
        "What is the shortest name?"
      ],
      "metadata": {
        "id": "WCJ0KTpopWz7"
      }
    },
    {
      "cell_type": "code",
      "source": [
        "shortest_name = None\n",
        "shortest_len = 1000\n",
        "\n",
        "with open(\"/content/registered-names-1922-2015.csv\") as csvfile:\n",
        "    reader = csv.DictReader(csvfile)\n",
        "\n",
        "    for row in reader:\n",
        "        name = row['name']\n",
        "        if (name != '') & (len(name) < shortest_len):\n",
        "            shortest_name = name\n",
        "            print(shortest_name)\n",
        "            shortest_len = len(name)\n",
        "\n",
        "print(f\"The shortest name is: {shortest_name}\")"
      ],
      "metadata": {
        "colab": {
          "base_uri": "https://localhost:8080/"
        },
        "id": "7ZQ7H073o3U5",
        "outputId": "0629d462-5f4b-4ac8-ad72-b6f0f7edd07c"
      },
      "execution_count": 11,
      "outputs": [
        {
          "output_type": "stream",
          "name": "stdout",
          "text": [
            "Maria\n",
            "Rosa\n",
            "Ana\n",
            "Fé\n",
            "E\n",
            "The shortest name is: E\n"
          ]
        }
      ]
    },
    {
      "cell_type": "code",
      "source": [
        "# What is the largest name in the dataset?\n",
        "largest_name = None\n",
        "largest_len = 0\n",
        "\n",
        "with open(\"/content/registered-names-1922-2015.csv\") as csvfile:\n",
        "    reader = csv.DictReader(csvfile)\n",
        "\n",
        "    for row in reader:\n",
        "        name = row['name']\n",
        "        if name and len(name) > largest_len:\n",
        "            largest_name = name\n",
        "            print(largest_name)\n",
        "            largest_len = len(name)\n",
        "\n",
        "print(f\"The largest name is: {largest_name}\")\n",
        "\n"
      ],
      "metadata": {
        "id": "5KAF1JT4vWNQ",
        "outputId": "7d589887-4d4d-4367-db8d-fc221f1865a6",
        "colab": {
          "base_uri": "https://localhost:8080/"
        }
      },
      "execution_count": 14,
      "outputs": [
        {
          "output_type": "stream",
          "name": "stdout",
          "text": [
            "Maria\n",
            "Maria Luisa\n",
            "Maria Esther\n",
            "Maria Angelica\n",
            "Maria Del Carmen\n",
            "Maria de las Mercedes\n",
            "Maria Helenita Josefina Trinidad\n",
            "Francisco Alfredo Del Perpetuo Socorro\n",
            "Maria Teresa Del Carmen Benedicta  Lorenza\n",
            "Maria De La Concepcion Trinidad Maria Amalia Fernanda Felisa Ignacia Adelaida\n",
            "Edgardo Enrique                                                                           \n",
            "Juan Atanacio                                                                                       \n",
            "The largest name is: Juan Atanacio                                                                                       \n"
          ]
        }
      ]
    },
    {
      "cell_type": "code",
      "source": [
        "# Is there a name in a database that is a Palindrome?\n",
        "palindrome_names = []\n",
        "\n",
        "with open(\"/content/registered-names-1922-2015.csv\") as csvfile:\n",
        "    reader = csv.DictReader(csvfile)\n",
        "\n",
        "    for row in reader:\n",
        "        name = row['name']\n",
        "        if name and name.lower() == name[::-1].lower():  # Ignorar mayúsculas/minúsculas\n",
        "            palindrome_names.append(name)\n",
        "\n",
        "if palindrome_names:\n",
        "    print(f\"Palindrome names found: {palindrome_names}\")\n",
        "else:\n",
        "    print(\"No palindrome names found.\")\n"
      ],
      "metadata": {
        "id": "oSHjccm-wnaR",
        "outputId": "3eb5b11d-e63e-432a-cf9c-7df4e50bf725",
        "colab": {
          "base_uri": "https://localhost:8080/"
        }
      },
      "execution_count": 15,
      "outputs": [
        {
          "output_type": "stream",
          "name": "stdout",
          "text": [
            "Palindrome names found: ['Ana', 'Ada', 'Anna', 'Ede', 'Ana', 'Anna', 'Ada', 'Ebe', 'Ana', 'Ada', 'Otto', 'Anna', 'Eve', 'Ana', 'Anna', 'Otto', 'Ada', 'Natan', 'Ede', 'Daad', 'Ene', 'Alila', 'Ana', 'Ada', 'Anna', 'Otto', 'Edde', 'Oto', 'Ana', 'Anna', 'Ada', 'Alla', 'Otto', 'Samas', 'Ana', 'Ada', 'Anna', 'Odo', 'Otto', 'Ana', 'Anna', 'Ada', 'Sabas', 'Otto', 'Natan', 'Lil', 'Ana', 'Ada', 'Anna', 'Otto', 'Ebe', 'Najan', 'Natan', 'Ede', 'Anina', 'Eve', 'Ana', 'Ada', 'Otto', 'Anna', 'Ara', 'Ebe', 'Eve', 'Ivi', 'Ana', 'Ada', 'Anna', 'Otto', 'Ebe', 'Ede', 'Oro', 'Natan', 'Oto', 'Itati', 'Ana', 'Ada', 'Anna', 'Otto', 'Eve', 'Nizin', 'Aidia', 'Natan', 'Ili', 'Ana', 'Ada', 'Anna', 'Otto', 'Sabas', 'Nissin', 'Enne', 'Eve', 'Emme', 'Itati', 'Savas', 'Ana', 'Ada', 'Anna', 'Otto', 'Itati', 'Ala', 'Ede', 'Natan', 'Ene', 'Oto', 'Aviva', 'Ana', 'Ada', 'Anna', 'Otto', 'Ebe', 'Awiwa', 'Ana', 'Ada', 'Anna', 'Otto', 'Sabas', 'Ede', 'Eve', 'Itati', 'Ana', 'Ada', 'Anna', 'Otto', 'Adda', 'Ede', 'Ivi', 'Natan', 'Oto', 'ANINA', 'Sabas', 'Ana', 'Ada', 'Anna', 'Otto', 'Ebe', 'Eve', 'Oto', 'Itati', 'Aziza', 'Ara', 'HANNAH', 'Ana', 'Ada', 'Anna', 'Otto', 'Itati', 'Sabas', 'Aziza', 'Ana', 'Anna', 'Ada', 'Otto', 'Itati', 'Isasi', 'Ebe', 'Oro', 'Natan', 'Asa', 'Ana', 'Ada', 'Otto', 'Anna', 'Neven', 'Ana', 'Ada', 'Anna', 'Otto', 'Anina', 'Sabas', 'Ebe', 'Xxx', 'Idi', 'Eve', 'Ana', 'Anna', 'Ada', 'Otto', 'Itati', 'Oto', 'Ebe', 'Ana', 'Anna', 'Ada', 'Otto', 'Itati', 'Afa', 'Oto', 'Adda', 'Ana', 'Anna', 'Ada', 'Otto', 'Itati', 'Ara', 'Alla', 'Anuna', 'Ama', 'Ede', 'Ala', 'Ana', 'Anna', 'Ada', 'ILI', 'Sabas', 'Otto', 'Rever', 'OPO', 'Eve', 'Ala', 'Oddo', 'Savas', 'Ana', 'Anna', 'Ada', 'Otto', 'Itati', 'Ara', 'Ebe', 'Adda', 'Ana', 'Anna', 'Ada', 'Otto', 'Itati', 'Alla', 'Ana', 'Ada', 'Otto', 'Itati', 'Anna', 'Oto', 'MABAM', 'XXXX', 'Neven', 'Ana', 'Ada', 'Anna', 'XX', 'Itati', 'Sabas', 'Eve', 'Alla', 'Otto', 'Ana', 'Anna', 'Ada', 'Otto', 'Itati', '----', 'Ana', 'Ada', 'Anna', 'Otto', 'Itati', 'Ailed Delia', 'Ana', 'Ada', 'Itati', 'Anna', 'Otto', 'Natan', 'Alla', 'Xxx', 'Ana', 'Ada', 'Itati', 'Otto', 'Sabas', 'Emme', 'Lil', 'Anna', 'Ana', 'Ada', 'Otto', 'Sabas', 'Itati', 'Ede', 'Anna', 'Alla', 'Ana', 'Ada', 'Anna', 'Itati', 'Otto', 'Sabas', 'Silis', 'Ianai', 'Alla', 'Ana', 'Ada', 'Anna', 'Otto', 'Afifa', 'Oto', 'Alla', 'Savas', 'Kok', 'Ana', 'Ada', 'Otto', 'Itati', 'Ede', 'ALLA', 'Eve', 'Zulema Ameluz', 'NATAN', 'Sabas', 'Adda', 'Ebe', 'Ana', 'Otto', 'Ada', 'Itati', 'Anna', 'Ala', 'Ana', 'Ada', 'Itati', 'Anna', 'Otto', 'ARA', 'Non', 'Sabas', 'Alla', 'Nan', 'Nail Lian', 'Ana', 'Anna', 'Ada', 'Itati', 'Otto', 'Edde', 'Alla', 'Sabas', 'Naian', 'Ana', 'Itati', 'Anna', 'Aziza', 'Otto', 'Alla', 'Ebe', 'Ana', 'Itati', 'Ada', 'Tafat', 'Anina', 'Aijia', 'Alla', 'Otto', 'Anna', 'Ana', 'Anna', 'Itati', 'Ada', 'ALLA', 'Sabas', 'Oto', 'Ana', 'Anna', 'Itati', 'Otto', 'Alla', 'Sabas', 'Ada', 'Afifa', 'Hannah', 'Ana', 'Ada', 'Itati', 'Anna', 'Otto', 'Ede', 'Abba', 'Sabas', 'Ana', 'Anna', 'Ada', 'Alla', 'I I', 'Xxxx', 'Ana', 'Itati', 'Ada', 'Sabas', 'Anina', 'Alla', 'Ara', 'Ana', 'Anna', 'Itati', 'Ada', 'Otto', 'Ana', 'Ada', 'Itati', 'Anna', 'Otto', 'Nimin', 'Nan', 'Aletse Estela', 'Naijian', 'Ana', 'Anna', 'Ada', 'Itati', 'Noel Leon', 'Natan', 'Xxx', 'Alla', 'ARA', 'Yanay', 'Sabas', 'Ana', 'Anna', 'Itati', 'Ada', 'Ara', 'Otto', 'ALLA', 'Sabas', 'Ana', 'Itati', 'Anna', 'Ada', 'Ana', 'Itati', 'Ada', 'Anna', 'Maram', 'Nan', 'Nurun', 'Ana', 'Anna', 'Ada', 'Itati', 'Xxxx', 'Ara', '       ', 'Sabas', 'Alla', 'Ana', 'Itati', 'Anna', 'Alla', 'Ada', 'Natan', 'XXX', 'Eve', 'XXXX', 'Ana', 'Anna', 'Ada', 'Itati', 'MILIM', 'Otto', 'Tebet', 'An Na', 'Ana', 'Anna', 'Ada', 'Itati', 'Xxx', 'Savvas', 'Alla', 'E', 'Eve', 'Nennen', 'Ana', 'Anna', 'Ada', 'Alla', 'Itati', ' ', 'NENNEN', 'XXX', 'Ana', 'Anna', 'Ada', 'ALLA', 'Xxx', 'Itati', 'Nannan', 'Natan', 'Ede', 'NIVIN', 'Eve', 'Onno', 'Ana', 'Anna', 'Itati', 'Ada', 'Nitin', 'NANNAN', 'E', 'Natan', 'Alla', 'IVI', 'Ana', 'Anna', 'Natan', 'Itati', 'REINIER', 'Nan', 'Xxx', 'Xxxx', 'Alla', 'Ana', 'Anna', 'Ada', 'Nan', 'Itati', 'Otto', 'YENNEY', 'Yeney', 'Ana', 'Anna', 'Natan', 'ITATI', 'Madam', 'An Na', 'Otto', 'Han Nah', '11111111111', 'Ana', 'Xxx', 'Anna', 'Ada', 'Itati', 'Neuen', 'Nan', 'Otto', 'Natan', 'ECE', 'Ana', 'Anna', 'ADA', 'Nan', 'Itati', 'Reinier', 'Ivi', 'Natan', 'Edde', 'Nannan', 'Aixia', 'NENNEN', 'Ana', 'Anna', 'Xxx', 'Itati', 'Natan', 'Alla', 'Ada', 'Nan', 'Lian Nail', 'Ala', 'Aia', 'Neyen', 'Eve', 'Otto', 'Ana', 'Natan', 'Anna', 'Ada', 'Iafai', 'Itati', 'Otto', 'Hannah', 'Alla', 'YANAY', 'Reinier', 'Ana', 'Anna', 'Itati', ' ', 'Maram', 'Anina', 'Neyen', 'Nannan', 'Naian', 'Hannah', ',', 'Otto', 'XXX', 'Sabas', 'Ana', 'Anna', 'Itati', 'Natan', 'Ada', 'Neyen', 'Nayan', 'Hannah', 'Neven', 'NAUAN', 'Neuen', 'Pylyp', 'Ana', 'Hannah', 'Anna', 'Natan', 'Neyen', 'Itati', 'Otto', 'Lewel', 'Alla', 'ABBA', 'Newen', 'Sabas', 'Ana', 'Anna', 'Natan', 'Neyen', 'Alla', 'Laial', 'Ada', 'Itati', 'Idi', 'OTTO', 'HANNAH', 'Ana', 'Anna', 'Natan', 'Ada', 'Neyen', 'Nayan', 'Itati', 'Laial', 'Ebe', 'AVIVA', 'Ana', 'Anna', 'Natan', 'Itati', 'Otto', 'Ara', 'Lewel', 'Neuen', 'ADA', 'Hannah', 'Nadan', 'Neyen', 'ADDA', 'Ana', 'Anna', 'Natan', 'Itati', 'Hannah', 'Neuen', 'CAUAC', 'Ssss', 'Ada', 'Ana', 'Natan', ' Ana ', 'Neyen', 'Itati', 'Ara', 'Anna', 'Ada', 'Ana', 'Anna', 'Neyen', 'Otto', 'Itati', 'Natan', 'Maiam', 'Ada', 'Ebe', 'Ana', 'Natan', 'Ada', 'Neyen', 'Hannah', 'REVER', 'Ibi', 'Anna', 'Neuen', 'Ana', 'Itati', 'Anna', 'Natan', 'Otto', 'Hannah', 'Neyen', 'Nelia Ailen', 'Ana', 'Anna', 'Natan', 'Itati', 'Neyen', 'Otto', 'Asa', 'Noel Leon', 'Hannah', 'Nisin', 'Xx', 'Ana', 'Anna', 'Hannah', 'Natan', 'Ara', 'Itati', 'Otto', 'Neyen', 'Ada', 'Anina', 'ALLA', 'MOOM', 'Ana', 'Anna', 'Natan', 'Hannah', 'Neyen', 'Itati', 'Otto', 'Neuen', 'Iara Arai', 'Ibi', 'Xxx', 'Ada', 'Anina', 'Ana', 'Anna', 'Natan', 'Neyen', 'Hannah', 'Otto', 'Ada', 'Nalan', 'Neuen', 'Rrrrr', 'Newen', 'Ianai', 'Iara Arai', 'Ibi', 'Ana', 'Anna', 'Eve', 'Natan', 'Hannah', 'Itati', 'Ara', 'Neyen', 'Neuquen', 'Otto', 'Ada', 'Ana', 'Anna', 'Hannah', 'Ada', 'Otto', 'Itati', 'Neyen', 'Newen', 'Anina', 'Lexel', 'Noel Leon', 'Ianai', 'Ana', 'ANNA', 'Natan', 'Ada', 'Hannah', 'Otto', 'Itati', 'Sabas', 'Newen', 'Yvy', 'Ana', 'Anna', 'HANNAH', 'Ada', ' Ana ', 'Natan', 'Itati', 'Otto', 'Neyen', 'Ibi', 'Ara', 'Newen', 'Aaaa', 'Amma', 'Onno', 'Iara Arai', 'Ana', 'Anna', 'Hannah', 'Otto', 'Itati', 'Laial', 'Natan', 'Layal', 'Ibi', 'Anina', 'Yamay', 'Ana', 'Anna', 'Otto', 'Ada', 'Hannah', 'Itati', 'Newen', 'Amma', 'Maram', 'Ara', 'Laial', 'Neyen', 'Sabas', 'Adda', 'Aya', 'Anna', 'Otto', 'Hannah', 'Itati', 'BOB', 'Natan', 'Amma', 'Newen', 'Neyen', 'Ibi', 'Yanay', 'Odo', 'Sabas', 'Anna', 'Otto', 'Hannah', 'Amma', 'Itati', 'Natan', 'Newen', 'Ibi', 'Lawal', 'Neyen', 'Ava', 'Emme', 'Odo', 'Yanay', 'Neien', 'A N A', 'Ipi', 'Ana', 'Anna', 'Hannah', 'Otto', 'Ada', 'Neyen', 'Natan', 'Amma', 'Newen', 'Yanay', 'Isi', 'Ava', 'Sabas', 'Adda', 'Ikki', 'Ibi', 'Ara', 'Anina', 'Lawal', 'Leon Noel', 'Aba', 'Neuen', 'Ana', 'Anna', 'Otto', 'Hannah', 'Ada', 'Natan', 'Amma', 'Laial', 'Neyen', 'Ianai', 'Newen', 'Talat', 'Yanay', 'Nayan', 'Ebe', 'Elle', 'Ddd', 'Ara', 'Naian', 'Neuen', 'Ama', 'Nellen', 'Aba', 'Adda', 'Ana', 'Anna', 'Hannah', 'Otto', 'Ada', 'Newen', 'Itati', 'Natan', 'Ara', 'Neyen', 'Ava', 'Ibi', 'Amma', 'Anina', 'Ikki', 'Awa', 'Ebe']\n"
          ]
        }
      ]
    },
    {
      "cell_type": "code",
      "source": [
        "#What is the name with the largest number of people registered?\n",
        "most_registered_name = None\n",
        "most_registered_count = 0\n",
        "\n",
        "with open(\"/content/registered-names-1922-2015.csv\") as csvfile:\n",
        "    reader = csv.DictReader(csvfile)\n",
        "\n",
        "    for row in reader:\n",
        "        name = row['name']\n",
        "        count = int(row['count'])  # Asegúrate de que el campo correspondiente sea 'count'\n",
        "\n",
        "        if count > most_registered_count:\n",
        "            most_registered_name = name\n",
        "            most_registered_count = count\n",
        "\n",
        "print(f\"The name with the largest number of people registered is: {most_registered_name} with {most_registered_count} registrations.\")\n"
      ],
      "metadata": {
        "id": "jURFDwrhwnWT",
        "outputId": "7f2a169f-11b4-4b53-cc6d-64fa655c8bb0",
        "colab": {
          "base_uri": "https://localhost:8080/"
        }
      },
      "execution_count": 16,
      "outputs": [
        {
          "output_type": "stream",
          "name": "stdout",
          "text": [
            "The name with the largest number of people registered is: Leonel Hernan with 7939 registrations.\n"
          ]
        }
      ]
    },
    {
      "cell_type": "code",
      "source": [],
      "metadata": {
        "id": "4q40sqqevWHD",
        "outputId": "d27944c1-f996-43c2-b589-b76b6ab8aaf8",
        "colab": {
          "base_uri": "https://localhost:8080/"
        }
      },
      "execution_count": 17,
      "outputs": [
        {
          "output_type": "stream",
          "name": "stdout",
          "text": [
            "Palindromes found in the database: ['ANINA', 'HANNAH', 'ILI', 'OPO', 'MABAM', 'XXXX', 'XX', '----', 'ALLA', 'NATAN', 'ARA', 'ALLA', 'I I', 'P', 'ARA', 'ALLA', 'XXX', 'XXXX', 'MILIM', 'E', 'NENNEN', 'XXX', 'ALLA', 'NIVIN', 'NANNAN', 'E', 'IVI', 'REINIER', 'YENNEY', 'ITATI', '11111111111', 'ECE', 'ADA', 'NENNEN', 'YANAY', ',', 'XXX', 'NAUAN', 'ABBA', 'OTTO', 'HANNAH', 'AVIVA', 'ADA', 'ADDA', 'CAUAC', 'REVER', 'ALLA', 'MOOM', 'ANNA', 'HANNAH', 'BOB', 'A N A']\n"
          ]
        }
      ]
    },
    {
      "cell_type": "code",
      "source": [],
      "metadata": {
        "id": "ET-a-CIevU0H"
      },
      "execution_count": null,
      "outputs": []
    },
    {
      "cell_type": "markdown",
      "source": [
        "## alternative in pandas"
      ],
      "metadata": {
        "id": "5Nt6MsMD3hjY"
      }
    },
    {
      "cell_type": "code",
      "source": [
        "import pandas as pd\n",
        "df = pd.read_csv(\"/content/registered-names-1922-2015.csv\")"
      ],
      "metadata": {
        "id": "YES72YxI3P8S"
      },
      "execution_count": 12,
      "outputs": []
    },
    {
      "cell_type": "code",
      "source": [
        "df"
      ],
      "metadata": {
        "colab": {
          "base_uri": "https://localhost:8080/",
          "height": 424
        },
        "id": "F6l-6P9o3V99",
        "outputId": "8fb5b6fd-ed6a-4d63-8dc4-b947aa752aca"
      },
      "execution_count": null,
      "outputs": [
        {
          "output_type": "execute_result",
          "data": {
            "text/plain": [
              "                            name  count  year\n",
              "0                          Maria    314  1922\n",
              "1                           Rosa    203  1922\n",
              "2                           Jose    163  1922\n",
              "3                    Maria Luisa    127  1922\n",
              "4                         Carmen    117  1922\n",
              "...                          ...    ...   ...\n",
              "9761604         Antonella Paloma      1  2015\n",
              "9761605  Briana Princesa Abigail      1  2015\n",
              "9761606            Neylan Dilara      1  2015\n",
              "9761607              Laya Jazmín      1  2015\n",
              "9761608      Fiorella Luz Mailén      1  2015\n",
              "\n",
              "[9761609 rows x 3 columns]"
            ],
            "text/html": [
              "\n",
              "  <div id=\"df-8414c4c4-0c8d-4e41-9f12-9ad91d5f5ca6\" class=\"colab-df-container\">\n",
              "    <div>\n",
              "<style scoped>\n",
              "    .dataframe tbody tr th:only-of-type {\n",
              "        vertical-align: middle;\n",
              "    }\n",
              "\n",
              "    .dataframe tbody tr th {\n",
              "        vertical-align: top;\n",
              "    }\n",
              "\n",
              "    .dataframe thead th {\n",
              "        text-align: right;\n",
              "    }\n",
              "</style>\n",
              "<table border=\"1\" class=\"dataframe\">\n",
              "  <thead>\n",
              "    <tr style=\"text-align: right;\">\n",
              "      <th></th>\n",
              "      <th>name</th>\n",
              "      <th>count</th>\n",
              "      <th>year</th>\n",
              "    </tr>\n",
              "  </thead>\n",
              "  <tbody>\n",
              "    <tr>\n",
              "      <th>0</th>\n",
              "      <td>Maria</td>\n",
              "      <td>314</td>\n",
              "      <td>1922</td>\n",
              "    </tr>\n",
              "    <tr>\n",
              "      <th>1</th>\n",
              "      <td>Rosa</td>\n",
              "      <td>203</td>\n",
              "      <td>1922</td>\n",
              "    </tr>\n",
              "    <tr>\n",
              "      <th>2</th>\n",
              "      <td>Jose</td>\n",
              "      <td>163</td>\n",
              "      <td>1922</td>\n",
              "    </tr>\n",
              "    <tr>\n",
              "      <th>3</th>\n",
              "      <td>Maria Luisa</td>\n",
              "      <td>127</td>\n",
              "      <td>1922</td>\n",
              "    </tr>\n",
              "    <tr>\n",
              "      <th>4</th>\n",
              "      <td>Carmen</td>\n",
              "      <td>117</td>\n",
              "      <td>1922</td>\n",
              "    </tr>\n",
              "    <tr>\n",
              "      <th>...</th>\n",
              "      <td>...</td>\n",
              "      <td>...</td>\n",
              "      <td>...</td>\n",
              "    </tr>\n",
              "    <tr>\n",
              "      <th>9761604</th>\n",
              "      <td>Antonella Paloma</td>\n",
              "      <td>1</td>\n",
              "      <td>2015</td>\n",
              "    </tr>\n",
              "    <tr>\n",
              "      <th>9761605</th>\n",
              "      <td>Briana Princesa Abigail</td>\n",
              "      <td>1</td>\n",
              "      <td>2015</td>\n",
              "    </tr>\n",
              "    <tr>\n",
              "      <th>9761606</th>\n",
              "      <td>Neylan Dilara</td>\n",
              "      <td>1</td>\n",
              "      <td>2015</td>\n",
              "    </tr>\n",
              "    <tr>\n",
              "      <th>9761607</th>\n",
              "      <td>Laya Jazmín</td>\n",
              "      <td>1</td>\n",
              "      <td>2015</td>\n",
              "    </tr>\n",
              "    <tr>\n",
              "      <th>9761608</th>\n",
              "      <td>Fiorella Luz Mailén</td>\n",
              "      <td>1</td>\n",
              "      <td>2015</td>\n",
              "    </tr>\n",
              "  </tbody>\n",
              "</table>\n",
              "<p>9761609 rows × 3 columns</p>\n",
              "</div>\n",
              "    <div class=\"colab-df-buttons\">\n",
              "\n",
              "  <div class=\"colab-df-container\">\n",
              "    <button class=\"colab-df-convert\" onclick=\"convertToInteractive('df-8414c4c4-0c8d-4e41-9f12-9ad91d5f5ca6')\"\n",
              "            title=\"Convert this dataframe to an interactive table.\"\n",
              "            style=\"display:none;\">\n",
              "\n",
              "  <svg xmlns=\"http://www.w3.org/2000/svg\" height=\"24px\" viewBox=\"0 -960 960 960\">\n",
              "    <path d=\"M120-120v-720h720v720H120Zm60-500h600v-160H180v160Zm220 220h160v-160H400v160Zm0 220h160v-160H400v160ZM180-400h160v-160H180v160Zm440 0h160v-160H620v160ZM180-180h160v-160H180v160Zm440 0h160v-160H620v160Z\"/>\n",
              "  </svg>\n",
              "    </button>\n",
              "\n",
              "  <style>\n",
              "    .colab-df-container {\n",
              "      display:flex;\n",
              "      gap: 12px;\n",
              "    }\n",
              "\n",
              "    .colab-df-convert {\n",
              "      background-color: #E8F0FE;\n",
              "      border: none;\n",
              "      border-radius: 50%;\n",
              "      cursor: pointer;\n",
              "      display: none;\n",
              "      fill: #1967D2;\n",
              "      height: 32px;\n",
              "      padding: 0 0 0 0;\n",
              "      width: 32px;\n",
              "    }\n",
              "\n",
              "    .colab-df-convert:hover {\n",
              "      background-color: #E2EBFA;\n",
              "      box-shadow: 0px 1px 2px rgba(60, 64, 67, 0.3), 0px 1px 3px 1px rgba(60, 64, 67, 0.15);\n",
              "      fill: #174EA6;\n",
              "    }\n",
              "\n",
              "    .colab-df-buttons div {\n",
              "      margin-bottom: 4px;\n",
              "    }\n",
              "\n",
              "    [theme=dark] .colab-df-convert {\n",
              "      background-color: #3B4455;\n",
              "      fill: #D2E3FC;\n",
              "    }\n",
              "\n",
              "    [theme=dark] .colab-df-convert:hover {\n",
              "      background-color: #434B5C;\n",
              "      box-shadow: 0px 1px 3px 1px rgba(0, 0, 0, 0.15);\n",
              "      filter: drop-shadow(0px 1px 2px rgba(0, 0, 0, 0.3));\n",
              "      fill: #FFFFFF;\n",
              "    }\n",
              "  </style>\n",
              "\n",
              "    <script>\n",
              "      const buttonEl =\n",
              "        document.querySelector('#df-8414c4c4-0c8d-4e41-9f12-9ad91d5f5ca6 button.colab-df-convert');\n",
              "      buttonEl.style.display =\n",
              "        google.colab.kernel.accessAllowed ? 'block' : 'none';\n",
              "\n",
              "      async function convertToInteractive(key) {\n",
              "        const element = document.querySelector('#df-8414c4c4-0c8d-4e41-9f12-9ad91d5f5ca6');\n",
              "        const dataTable =\n",
              "          await google.colab.kernel.invokeFunction('convertToInteractive',\n",
              "                                                    [key], {});\n",
              "        if (!dataTable) return;\n",
              "\n",
              "        const docLinkHtml = 'Like what you see? Visit the ' +\n",
              "          '<a target=\"_blank\" href=https://colab.research.google.com/notebooks/data_table.ipynb>data table notebook</a>'\n",
              "          + ' to learn more about interactive tables.';\n",
              "        element.innerHTML = '';\n",
              "        dataTable['output_type'] = 'display_data';\n",
              "        await google.colab.output.renderOutput(dataTable, element);\n",
              "        const docLink = document.createElement('div');\n",
              "        docLink.innerHTML = docLinkHtml;\n",
              "        element.appendChild(docLink);\n",
              "      }\n",
              "    </script>\n",
              "  </div>\n",
              "\n",
              "\n",
              "<div id=\"df-3ee498a7-1b0f-4a80-83b9-096b0bf7d3ff\">\n",
              "  <button class=\"colab-df-quickchart\" onclick=\"quickchart('df-3ee498a7-1b0f-4a80-83b9-096b0bf7d3ff')\"\n",
              "            title=\"Suggest charts\"\n",
              "            style=\"display:none;\">\n",
              "\n",
              "<svg xmlns=\"http://www.w3.org/2000/svg\" height=\"24px\"viewBox=\"0 0 24 24\"\n",
              "     width=\"24px\">\n",
              "    <g>\n",
              "        <path d=\"M19 3H5c-1.1 0-2 .9-2 2v14c0 1.1.9 2 2 2h14c1.1 0 2-.9 2-2V5c0-1.1-.9-2-2-2zM9 17H7v-7h2v7zm4 0h-2V7h2v10zm4 0h-2v-4h2v4z\"/>\n",
              "    </g>\n",
              "</svg>\n",
              "  </button>\n",
              "\n",
              "<style>\n",
              "  .colab-df-quickchart {\n",
              "      --bg-color: #E8F0FE;\n",
              "      --fill-color: #1967D2;\n",
              "      --hover-bg-color: #E2EBFA;\n",
              "      --hover-fill-color: #174EA6;\n",
              "      --disabled-fill-color: #AAA;\n",
              "      --disabled-bg-color: #DDD;\n",
              "  }\n",
              "\n",
              "  [theme=dark] .colab-df-quickchart {\n",
              "      --bg-color: #3B4455;\n",
              "      --fill-color: #D2E3FC;\n",
              "      --hover-bg-color: #434B5C;\n",
              "      --hover-fill-color: #FFFFFF;\n",
              "      --disabled-bg-color: #3B4455;\n",
              "      --disabled-fill-color: #666;\n",
              "  }\n",
              "\n",
              "  .colab-df-quickchart {\n",
              "    background-color: var(--bg-color);\n",
              "    border: none;\n",
              "    border-radius: 50%;\n",
              "    cursor: pointer;\n",
              "    display: none;\n",
              "    fill: var(--fill-color);\n",
              "    height: 32px;\n",
              "    padding: 0;\n",
              "    width: 32px;\n",
              "  }\n",
              "\n",
              "  .colab-df-quickchart:hover {\n",
              "    background-color: var(--hover-bg-color);\n",
              "    box-shadow: 0 1px 2px rgba(60, 64, 67, 0.3), 0 1px 3px 1px rgba(60, 64, 67, 0.15);\n",
              "    fill: var(--button-hover-fill-color);\n",
              "  }\n",
              "\n",
              "  .colab-df-quickchart-complete:disabled,\n",
              "  .colab-df-quickchart-complete:disabled:hover {\n",
              "    background-color: var(--disabled-bg-color);\n",
              "    fill: var(--disabled-fill-color);\n",
              "    box-shadow: none;\n",
              "  }\n",
              "\n",
              "  .colab-df-spinner {\n",
              "    border: 2px solid var(--fill-color);\n",
              "    border-color: transparent;\n",
              "    border-bottom-color: var(--fill-color);\n",
              "    animation:\n",
              "      spin 1s steps(1) infinite;\n",
              "  }\n",
              "\n",
              "  @keyframes spin {\n",
              "    0% {\n",
              "      border-color: transparent;\n",
              "      border-bottom-color: var(--fill-color);\n",
              "      border-left-color: var(--fill-color);\n",
              "    }\n",
              "    20% {\n",
              "      border-color: transparent;\n",
              "      border-left-color: var(--fill-color);\n",
              "      border-top-color: var(--fill-color);\n",
              "    }\n",
              "    30% {\n",
              "      border-color: transparent;\n",
              "      border-left-color: var(--fill-color);\n",
              "      border-top-color: var(--fill-color);\n",
              "      border-right-color: var(--fill-color);\n",
              "    }\n",
              "    40% {\n",
              "      border-color: transparent;\n",
              "      border-right-color: var(--fill-color);\n",
              "      border-top-color: var(--fill-color);\n",
              "    }\n",
              "    60% {\n",
              "      border-color: transparent;\n",
              "      border-right-color: var(--fill-color);\n",
              "    }\n",
              "    80% {\n",
              "      border-color: transparent;\n",
              "      border-right-color: var(--fill-color);\n",
              "      border-bottom-color: var(--fill-color);\n",
              "    }\n",
              "    90% {\n",
              "      border-color: transparent;\n",
              "      border-bottom-color: var(--fill-color);\n",
              "    }\n",
              "  }\n",
              "</style>\n",
              "\n",
              "  <script>\n",
              "    async function quickchart(key) {\n",
              "      const quickchartButtonEl =\n",
              "        document.querySelector('#' + key + ' button');\n",
              "      quickchartButtonEl.disabled = true;  // To prevent multiple clicks.\n",
              "      quickchartButtonEl.classList.add('colab-df-spinner');\n",
              "      try {\n",
              "        const charts = await google.colab.kernel.invokeFunction(\n",
              "            'suggestCharts', [key], {});\n",
              "      } catch (error) {\n",
              "        console.error('Error during call to suggestCharts:', error);\n",
              "      }\n",
              "      quickchartButtonEl.classList.remove('colab-df-spinner');\n",
              "      quickchartButtonEl.classList.add('colab-df-quickchart-complete');\n",
              "    }\n",
              "    (() => {\n",
              "      let quickchartButtonEl =\n",
              "        document.querySelector('#df-3ee498a7-1b0f-4a80-83b9-096b0bf7d3ff button');\n",
              "      quickchartButtonEl.style.display =\n",
              "        google.colab.kernel.accessAllowed ? 'block' : 'none';\n",
              "    })();\n",
              "  </script>\n",
              "</div>\n",
              "\n",
              "  <div id=\"id_448ab16b-820c-4b4c-9708-4132bf2b30c6\">\n",
              "    <style>\n",
              "      .colab-df-generate {\n",
              "        background-color: #E8F0FE;\n",
              "        border: none;\n",
              "        border-radius: 50%;\n",
              "        cursor: pointer;\n",
              "        display: none;\n",
              "        fill: #1967D2;\n",
              "        height: 32px;\n",
              "        padding: 0 0 0 0;\n",
              "        width: 32px;\n",
              "      }\n",
              "\n",
              "      .colab-df-generate:hover {\n",
              "        background-color: #E2EBFA;\n",
              "        box-shadow: 0px 1px 2px rgba(60, 64, 67, 0.3), 0px 1px 3px 1px rgba(60, 64, 67, 0.15);\n",
              "        fill: #174EA6;\n",
              "      }\n",
              "\n",
              "      [theme=dark] .colab-df-generate {\n",
              "        background-color: #3B4455;\n",
              "        fill: #D2E3FC;\n",
              "      }\n",
              "\n",
              "      [theme=dark] .colab-df-generate:hover {\n",
              "        background-color: #434B5C;\n",
              "        box-shadow: 0px 1px 3px 1px rgba(0, 0, 0, 0.15);\n",
              "        filter: drop-shadow(0px 1px 2px rgba(0, 0, 0, 0.3));\n",
              "        fill: #FFFFFF;\n",
              "      }\n",
              "    </style>\n",
              "    <button class=\"colab-df-generate\" onclick=\"generateWithVariable('df')\"\n",
              "            title=\"Generate code using this dataframe.\"\n",
              "            style=\"display:none;\">\n",
              "\n",
              "  <svg xmlns=\"http://www.w3.org/2000/svg\" height=\"24px\"viewBox=\"0 0 24 24\"\n",
              "       width=\"24px\">\n",
              "    <path d=\"M7,19H8.4L18.45,9,17,7.55,7,17.6ZM5,21V16.75L18.45,3.32a2,2,0,0,1,2.83,0l1.4,1.43a1.91,1.91,0,0,1,.58,1.4,1.91,1.91,0,0,1-.58,1.4L9.25,21ZM18.45,9,17,7.55Zm-12,3A5.31,5.31,0,0,0,4.9,8.1,5.31,5.31,0,0,0,1,6.5,5.31,5.31,0,0,0,4.9,4.9,5.31,5.31,0,0,0,6.5,1,5.31,5.31,0,0,0,8.1,4.9,5.31,5.31,0,0,0,12,6.5,5.46,5.46,0,0,0,6.5,12Z\"/>\n",
              "  </svg>\n",
              "    </button>\n",
              "    <script>\n",
              "      (() => {\n",
              "      const buttonEl =\n",
              "        document.querySelector('#id_448ab16b-820c-4b4c-9708-4132bf2b30c6 button.colab-df-generate');\n",
              "      buttonEl.style.display =\n",
              "        google.colab.kernel.accessAllowed ? 'block' : 'none';\n",
              "\n",
              "      buttonEl.onclick = () => {\n",
              "        google.colab.notebook.generateWithVariable('df');\n",
              "      }\n",
              "      })();\n",
              "    </script>\n",
              "  </div>\n",
              "\n",
              "    </div>\n",
              "  </div>\n"
            ],
            "application/vnd.google.colaboratory.intrinsic+json": {
              "type": "dataframe",
              "variable_name": "df"
            }
          },
          "metadata": {},
          "execution_count": 10
        }
      ]
    },
    {
      "cell_type": "markdown",
      "source": [
        "### Solve the problems"
      ],
      "metadata": {
        "id": "Shmbi_bibPxC"
      }
    },
    {
      "cell_type": "markdown",
      "source": [
        "How many people were registered each year?\n"
      ],
      "metadata": {
        "id": "G2SLz_d8iX-0"
      }
    },
    {
      "cell_type": "code",
      "source": [
        "df.groupby(\"year\").count()['count'].plot()"
      ],
      "metadata": {
        "id": "XhdnEhC3svK2",
        "colab": {
          "base_uri": "https://localhost:8080/",
          "height": 467
        },
        "outputId": "a99ad73e-9cc3-480b-e742-1f7d7679e137"
      },
      "execution_count": null,
      "outputs": [
        {
          "output_type": "execute_result",
          "data": {
            "text/plain": [
              "<Axes: xlabel='year'>"
            ]
          },
          "metadata": {},
          "execution_count": 11
        },
        {
          "output_type": "display_data",
          "data": {
            "text/plain": [
              "<Figure size 640x480 with 1 Axes>"
            ],
            "image/png": "[encoded data removed]"
          },
          "metadata": {}
        }
      ]
    },
    {
      "cell_type": "markdown",
      "source": [
        "What is the shortest name in the dataset?"
      ],
      "metadata": {
        "id": "tcFPnIw8iZHh"
      }
    },
    {
      "cell_type": "code",
      "source": [
        "df.iloc[df.name.str.len().argmin()].loc['name']"
      ],
      "metadata": {
        "id": "chz1PTwLicvl",
        "colab": {
          "base_uri": "https://localhost:8080/",
          "height": 35
        },
        "outputId": "28a9b530-2395-4ce3-8433-450c92e6c7e4"
      },
      "execution_count": null,
      "outputs": [
        {
          "output_type": "execute_result",
          "data": {
            "text/plain": [
              "'E'"
            ],
            "application/vnd.google.colaboratory.intrinsic+json": {
              "type": "string"
            }
          },
          "metadata": {},
          "execution_count": 12
        }
      ]
    },
    {
      "cell_type": "code",
      "source": [
        "df.loc[df['name'].str.len().idxmin(), 'name']"
      ],
      "metadata": {
        "colab": {
          "base_uri": "https://localhost:8080/",
          "height": 36
        },
        "id": "ktovaebqjUNs",
        "outputId": "10062c80-cf47-4a56-c870-100543a9a606"
      },
      "execution_count": 18,
      "outputs": [
        {
          "output_type": "execute_result",
          "data": {
            "text/plain": [
              "'E'"
            ],
            "application/vnd.google.colaboratory.intrinsic+json": {
              "type": "string"
            }
          },
          "metadata": {},
          "execution_count": 18
        }
      ]
    }
  ]
}