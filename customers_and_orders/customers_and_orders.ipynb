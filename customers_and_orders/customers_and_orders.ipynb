{
  "cells": [
    {
      "cell_type": "markdown",
      "metadata": {
        "id": "piiX_CRNFYUi"
      },
      "source": [
        "# Technical Challenge ! Custiomers and Orders - The lifeblood of any business!\n",
        "\n",
        "This notebook depends on two data files: customers.scv and orders.csv. These files are hosted in the cloud (or Github), so for simplicity, we are providing you with the code to download and save the two files in a folder called 'sample_data' which lives within this notebook session (not on your local computer nor Google Drive).\n",
        "\n",
        "![sample_data folder in notebook session](https://raw.githubusercontent.com/anyoneai/notebooks/main/customers_and_orders/images/sample_data_folder.png)\n",
        "\n",
        "Please execute the first code snippet before moving to the rest of the exercise as this code will import the data from the files for you to be able to execute the rest of the exercise.\n",
        "\n",
        "Remember as we said in the previous lecture, you have to save this notebook into your Google Drive by going to menu File/Save a Copy In Drive, or clicking in the button \"Copy to Drive\". This way, you will not lose any work you've done and the file will persist with your latest changes in your Google Drive. Also we recommend you to rename your .ipynb in your Google Drive, so you can easily find it in the future."
      ]
    },
    {
      "cell_type": "code",
      "execution_count": null,
      "metadata": {
        "colab": {
          "base_uri": "https://localhost:8080/"
        },
        "id": "MWpVO242FQHC",
        "outputId": "b515a5a0-61e7-47fe-85ff-875b934f9813"
      },
      "outputs": [
        {
          "name": "stdout",
          "output_type": "stream",
          "text": [
            "Customers and orders CSV files have been added './sample_data'\n"
          ]
        }
      ],
      "source": [
        "import requests\n",
        "\n",
        "def import_data_files():\n",
        "  r = requests.get('https://raw.githubusercontent.com/anyoneai/notebooks/main/customers_and_orders/data/customers.csv')\n",
        "  with open('./sample_data/customers.csv', 'wb') as f:\n",
        "    f.write(r.content)\n",
        "\n",
        "  r = requests.get('https://raw.githubusercontent.com/anyoneai/notebooks/main/customers_and_orders/data/orders.csv')\n",
        "  with open('./sample_data/orders.csv', 'wb') as f:\n",
        "    f.write(r.content)\n",
        "\n",
        "import_data_files()\n",
        "print(\"Customers and orders CSV files have been added './sample_data'\")"
      ]
    },
    {
      "cell_type": "markdown",
      "metadata": {
        "id": "JQAduY-RWKyB"
      },
      "source": [
        "# Exercise 1: Processing Customers data (difficulty medium)\n",
        "\n",
        "The sample customer data in 'customers.csv' file has just 5 columns: CustomerId, First Name, Last Name, City and State\n",
        "\n",
        "![Data sample](https://raw.githubusercontent.com/anyoneai/notebooks/main/customers_and_orders/images/customers.png)\n",
        "\n",
        "We strongly recommend that you complete from the [Prep Course: Intro to Python](https://colab.research.google.com/github/anyoneai/notebooks/blob/main/python3_crash_course.ipynb) the following section:\n",
        "- Section 7: File I/O (to understand how to read CSV file)\n",
        "- Section 6: For Loop (to navigate the contents of the CSV file)\n",
        "- Section 5: Tuples, Lists, and Dictionaries (to manipulate the data of the CSV file)\n",
        "\n",
        "With this, we hope you can complete this exercise successfully. Although if you want to solve this with libraries or any other way, you are welcome to do it your way.\n",
        "\n",
        "*Hint:* We advise you to take a look at the data before you start.\n",
        "**if you want to manually take a look at the data before you start, please see the content of the data [here](https://github.com/anyoneai/notebooks/blob/main/customers_and_orders/data/customers.csv).\n",
        "\n",
        "*Hint*: There are many ways to do this exercise you can do your own, although here's some help. You can solve this exercise reading and parsing CSV files, structuring data into dictionaries, and using for loops to navigate the contents\n",
        "\n",
        "*Hint*: Also, keep in mind that data might not be clean and you might have to figure out how to deal with that data from the code, without having to modify the data source.\n",
        "\n",
        "Below are the 5 questions you'll have to answer to pass the evaluation:"
      ]
    },
    {
      "cell_type": "markdown",
      "metadata": {
        "id": "kJq7S8sBfbOW"
      },
      "source": [
        "**Question 1:** How many customers are in the file?\n",
        "(as help, we have added some comments and starter code to help you structure the solution)"
      ]
    },
    {
      "cell_type": "code",
      "execution_count": 72,
      "metadata": {
        "colab": {
          "base_uri": "https://localhost:8080/"
        },
        "id": "oMnUFBFb2RUb",
        "outputId": "1c24a0c9-5cf3-42a4-83f5-40d017c710ba"
      },
      "outputs": [
        {
          "output_type": "stream",
          "name": "stdout",
          "text": [
            "El número total de clientes en el archivo es: 602\n"
          ]
        }
      ],
      "source": [
        "from os.path import exists\n",
        "import csv\n",
        "\n",
        "# Verificar si el archivo existe y abrir el archivo\n",
        "datafile = \"./sample_data/customers.csv\"\n",
        "if not exists(datafile):\n",
        "    raise SystemExit(\"¡El archivo no se encuentra!\")\n",
        "\n",
        "# Contar el número de clientes en el archivo\n",
        "with open(datafile, 'r') as fl:\n",
        "    csvreader = csv.reader(fl, delimiter=',')\n",
        "    # Saltar la cabecera\n",
        "    next(csvreader)\n",
        "    # Contar el número de filas\n",
        "    customer_count = sum(1 for row in csvreader)\n",
        "\n",
        "print(f\"El número total de clientes en el archivo es: {customer_count}\")"
      ]
    },
    {
      "cell_type": "markdown",
      "metadata": {
        "id": "uffBnNgz_570"
      },
      "source": [
        "**Question 2:** In how many different states do the customers live in?"
      ]
    },
    {
      "cell_type": "code",
      "execution_count": 16,
      "metadata": {
        "id": "Bi_yid0sMe3-",
        "colab": {
          "base_uri": "https://localhost:8080/"
        },
        "outputId": "6c019a9d-7efb-4ef3-8817-936d80d45b49"
      },
      "outputs": [
        {
          "output_type": "stream",
          "name": "stdout",
          "text": [
            "El número de estados diferentes en los que viven los clientes es: 16\n"
          ]
        }
      ],
      "source": [
        "# open file and init vars\n",
        "# evaluate the contents of the file\n",
        "# open file and init vars\n",
        "# evaluate the contents of the file\n",
        "import csv\n",
        "from os.path import exists\n",
        "\n",
        "# Verificar si el archivo existe y abrir el archivo\n",
        "datafile = \"./sample_data/customers.csv\"\n",
        "if not exists(datafile):\n",
        "    raise SystemExit(\"¡El archivo no se encuentra!\")\n",
        "\n",
        "# Contar el número de estados diferentes en los que viven los clientes\n",
        "states = set()\n",
        "with open(datafile, 'r') as fl:\n",
        "    csvreader = csv.reader(fl, delimiter=',')\n",
        "    # Saltar la cabecera\n",
        "    next(csvreader)\n",
        "    # Recopilar los estados únicos\n",
        "    for row in csvreader:\n",
        "        states.add(row[4])\n",
        "\n",
        "state_count = len(states)\n",
        "\n",
        "print(f\"El número de estados diferentes en los que viven los clientes es: {state_count}\")"
      ]
    },
    {
      "cell_type": "markdown",
      "metadata": {
        "id": "DC59SZYiMfNY"
      },
      "source": [
        "**Question 3** What is the state with most customers?"
      ]
    },
    {
      "cell_type": "code",
      "execution_count": 17,
      "metadata": {
        "id": "tfGU3w-OMhA9",
        "colab": {
          "base_uri": "https://localhost:8080/"
        },
        "outputId": "2a56985b-3fef-4611-d3ef-a76d19775fb5"
      },
      "outputs": [
        {
          "output_type": "stream",
          "name": "stdout",
          "text": [
            "El estado con más clientes es: CA con 562 clientes.\n"
          ]
        }
      ],
      "source": [
        "# open file and init vars\n",
        "# evaluate the contents of the file\n",
        "# open file and init vars\n",
        "# evaluate the contents of the file\n",
        "import csv\n",
        "from os.path import exists\n",
        "from collections import Counter\n",
        "\n",
        "# Verificar si el archivo existe y abrir el archivo\n",
        "datafile = \"./sample_data/customers.csv\"\n",
        "if not exists(datafile):\n",
        "    raise SystemExit(\"¡El archivo no se encuentra!\")\n",
        "\n",
        "# Contar el número de clientes por estado\n",
        "state_counter = Counter()\n",
        "with open(datafile, 'r') as fl:\n",
        "    csvreader = csv.reader(fl, delimiter=',')\n",
        "    # Saltar la cabecera\n",
        "    next(csvreader)\n",
        "    # Contar los clientes por estado\n",
        "    for row in csvreader:\n",
        "        state_counter[row[4]] += 1\n",
        "\n",
        "# Encontrar el estado con más clientes\n",
        "most_common_state, most_common_count = state_counter.most_common(1)[0]\n",
        "\n",
        "print(f\"El estado con más clientes es: {most_common_state} con {most_common_count} clientes.\")"
      ]
    },
    {
      "cell_type": "markdown",
      "metadata": {
        "id": "7mcM6cUAMhLB"
      },
      "source": [
        "**Question 4** What is the state with the least customers?"
      ]
    },
    {
      "cell_type": "code",
      "execution_count": 18,
      "metadata": {
        "id": "8T0Ka2RqMi3P",
        "colab": {
          "base_uri": "https://localhost:8080/"
        },
        "outputId": "087c4178-5db3-471a-e253-4c21d3f1339b"
      },
      "outputs": [
        {
          "output_type": "stream",
          "name": "stdout",
          "text": [
            "El estado con menos clientes es: IN con 1 clientes.\n"
          ]
        }
      ],
      "source": [
        "# open file and init vars\n",
        "# evaluate the contents of the file\n",
        "# open file and init vars\n",
        "# evaluate the contents of the file\n",
        "import csv\n",
        "from os.path import exists\n",
        "from collections import Counter\n",
        "\n",
        "# Verificar si el archivo existe y abrir el archivo\n",
        "datafile = \"./sample_data/customers.csv\"\n",
        "if not exists(datafile):\n",
        "    raise SystemExit(\"¡El archivo no se encuentra!\")\n",
        "\n",
        "# Contar el número de clientes por estado\n",
        "state_counter = Counter()\n",
        "with open(datafile, 'r') as fl:\n",
        "    csvreader = csv.reader(fl, delimiter=',')\n",
        "    # Saltar la cabecera\n",
        "    next(csvreader)\n",
        "    # Contar los clientes por estado\n",
        "    for row in csvreader:\n",
        "        state_counter[row[4]] += 1\n",
        "\n",
        "# Encontrar el estado con menos clientes\n",
        "least_common_state, least_common_count = state_counter.most_common()[-1]\n",
        "\n",
        "print(f\"El estado con menos clientes es: {least_common_state} con {least_common_count} clientes.\")"
      ]
    },
    {
      "cell_type": "markdown",
      "metadata": {
        "id": "h6fIy7hXHF6A"
      },
      "source": [
        "**Question 5:** What is the most common last name?"
      ]
    },
    {
      "cell_type": "code",
      "execution_count": 20,
      "metadata": {
        "id": "k8M1DmA75Km7",
        "colab": {
          "base_uri": "https://localhost:8080/"
        },
        "outputId": "8b6958c7-f574-4985-8857-eeb9ecb102d6"
      },
      "outputs": [
        {
          "output_type": "stream",
          "name": "stdout",
          "text": [
            "El apellido más común es: Smith con 8 clientes.\n"
          ]
        }
      ],
      "source": [
        "# open file and init vars\n",
        "# evaluate the contents of the file\n",
        "# open file and init vars\n",
        "# evaluate the contents of the file\n",
        "import csv\n",
        "from os.path import exists\n",
        "from collections import Counter\n",
        "\n",
        "# Verificar si el archivo existe y abrir el archivo\n",
        "datafile = \"./sample_data/customers.csv\"\n",
        "if not exists(datafile):\n",
        "    raise SystemExit(\"¡El archivo no se encuentra!\")\n",
        "\n",
        "# Contar el número de clientes por apellido\n",
        "last_name_counter = Counter()\n",
        "with open(datafile, 'r') as fl:\n",
        "    csvreader = csv.reader(fl, delimiter=',')\n",
        "    # Saltar la cabecera\n",
        "    next(csvreader)\n",
        "    # Contar los clientes por apellido\n",
        "    for row in csvreader:\n",
        "        last_name_counter[row[2]] += 1\n",
        "\n",
        "# Encontrar el apellido más común\n",
        "most_common_last_name, most_common_count = last_name_counter.most_common(1)[0]\n",
        "\n",
        "print(f\"El apellido más común es: {most_common_last_name} con {most_common_count} clientes.\")"
      ]
    },
    {
      "cell_type": "markdown",
      "metadata": {
        "id": "YPRma1t9NoFk"
      },
      "source": [
        "\n",
        "# Exercise 2: Processing Orders data (difficulty high)\n",
        "\n",
        "The second sample files contains orders placed by customers from the first file. Be careful, this file has many rows and you most likely should not print the contents of the whole file.\n",
        "\n",
        "The file contains the following columns: CustomerID, OrderID, Date, OrderTotal, ProductName, Price\n",
        "\n",
        "![Data sample](https://raw.githubusercontent.com/anyoneai/notebooks/main/customers_and_orders/images/orders.png)\n",
        "\n",
        "*Hint:* We advise you to take a look at the data before you start.\n",
        "**if you want to manually take a look at the data before you start, please see the content of the data [here](https://raw.githubusercontent.com/anyoneai/notebooks/main/customers_and_orders/data/orders.csv).\n",
        "\n",
        "*Hint*: There are many ways to do this exercise you can do your own, although here's some help. You can solve this exercise reading and parsing CSV files, structuring data into dictionaries, and using for loops to navigate the contents\n",
        "\n",
        "*Hint*: Also, the data is not clean and you will have to figure out how to deal with that data from the code, without having to modify the data source.\n",
        "\n",
        "\n",
        "\n",
        "**Question #1:** How many unique orders are in the orders.csv file?\n",
        "\n",
        "**Question #2:** What is the average number of items per order (rounded to two decimal places)?\n",
        "\n",
        "**Question #3:** What is the highest number of items per order?\n",
        "\n",
        "**Question #4:** What is the number of orders placed in October 2021?\n",
        "\n",
        "**Question #5:** Which customer spent the most amount of money in 2021?\n",
        "\n",
        "**Question #6:** Historically, what is the best month for sales?\n",
        "\n",
        "Once you get your answers, remember to go back to the course and introduce them in the multiple choice quiz"
      ]
    },
    {
      "cell_type": "code",
      "execution_count": 71,
      "metadata": {
        "id": "8ipJTrfs5QVM",
        "colab": {
          "base_uri": "https://localhost:8080/"
        },
        "outputId": "6af4cffe-faeb-4dce-b7a2-116002015a92"
      },
      "outputs": [
        {
          "output_type": "stream",
          "name": "stdout",
          "text": [
            "El número de pedidos únicos es: 16672\n",
            "El número promedio de artículos por pedido es: 1.76\n",
            "El mayor número de artículos por pedido es: 35\n",
            "El número de pedidos realizados en octubre de 2021 es: 437\n",
            "El cliente que gastó la mayor cantidad de dinero en 2021 es: 5464 con un gasto de 56170.00\n",
            "El mejor mes para las ventas es: 2022-01 con ventas de 172032.0\n"
          ]
        }
      ],
      "source": [
        "# open and evaluate orders.csv\n",
        "#1\n",
        "import csv\n",
        "from os.path import exists\n",
        "\n",
        "# Verificar si el archivo existe y abrir el archivo\n",
        "datafile = \"./sample_data/orders.csv\"\n",
        "if not exists(datafile):\n",
        "    raise SystemExit(\"¡El archivo no se encuentra!\")\n",
        "\n",
        "# Contar el número de pedidos únicos\n",
        "order_ids = set()\n",
        "with open(datafile, 'r') as fl:\n",
        "    csvreader = csv.reader(fl, delimiter=',')\n",
        "    # Saltar la cabecera\n",
        "    next(csvreader)\n",
        "    # Recopilar los IDs de pedidos únicos\n",
        "    for row in csvreader:\n",
        "        order_ids.add(row[1])\n",
        "\n",
        "unique_orders = len(order_ids)\n",
        "print(f\"El número de pedidos únicos es: {unique_orders}\")\n",
        "#2\n",
        "import csv\n",
        "from os.path import exists\n",
        "from collections import Counter\n",
        "\n",
        "# Verificar si el archivo existe y abrir el archivo\n",
        "datafile = \"./sample_data/orders.csv\"\n",
        "if not exists(datafile):\n",
        "    raise SystemExit(\"¡El archivo no se encuentra!\")\n",
        "\n",
        "# Contar el número de artículos por pedido\n",
        "order_items = Counter()\n",
        "with open(datafile, 'r') as fl:\n",
        "    csvreader = csv.reader(fl, delimiter=',')\n",
        "    # Saltar la cabecera\n",
        "    next(csvreader)\n",
        "    # Contar los artículos por pedido\n",
        "    for row in csvreader:\n",
        "        order_items[row[1]] += 1\n",
        "\n",
        "average_items_per_order = round(sum(order_items.values()) / len(order_items), 2)\n",
        "print(f\"El número promedio de artículos por pedido es: {average_items_per_order}\")\n",
        "#3\n",
        "import csv\n",
        "from os.path import exists\n",
        "from collections import Counter\n",
        "\n",
        "# Verificar si el archivo existe y abrir el archivo\n",
        "datafile = \"./sample_data/orders.csv\"\n",
        "if not exists(datafile):\n",
        "    raise SystemExit(\"¡El archivo no se encuentra!\")\n",
        "\n",
        "# Contar el número de artículos por pedido\n",
        "order_items = Counter()\n",
        "with open(datafile, 'r') as fl:\n",
        "    csvreader = csv.reader(fl, delimiter=',')\n",
        "    # Saltar la cabecera\n",
        "    next(csvreader)\n",
        "    # Contar los artículos por pedido\n",
        "    for row in csvreader:\n",
        "        order_items[row[1]] += 1\n",
        "\n",
        "max_items_per_order = max(order_items.values())\n",
        "print(f\"El mayor número de artículos por pedido es: {max_items_per_order}\")\n",
        "#4\n",
        "import csv\n",
        "from os.path import exists\n",
        "from datetime import datetime\n",
        "\n",
        "# Verificar si el archivo existe y abrir el archivo\n",
        "datafile = \"./sample_data/orders.csv\"\n",
        "if not exists(datafile):\n",
        "    raise SystemExit(\"¡El archivo no se encuentra!\")\n",
        "\n",
        "# Contar el número de pedidos en octubre de 2021\n",
        "october_orders = 0\n",
        "with open(datafile, 'r') as fl:\n",
        "    csvreader = csv.reader(fl, delimiter=',')\n",
        "    # Saltar la cabecera\n",
        "    next(csvreader)\n",
        "    # Contar los pedidos en octubre de 2021\n",
        "    for row in csvreader:\n",
        "        date_str = row[2].strip()\n",
        "        if date_str:  # Check if date_str is not empty\n",
        "            try:\n",
        "                order_date = datetime.strptime(date_str, '%Y-%m-%d %H:%M:%S.%f')\n",
        "            except ValueError:\n",
        "                try:\n",
        "                    order_date = datetime.strptime(date_str, '%Y-%m-%d %H:%M:%S')\n",
        "                except ValueError:\n",
        "                    try:\n",
        "                        order_date = datetime.strptime(date_str, '%Y-%m-%d')\n",
        "                    except ValueError:\n",
        "                        # Handle the case where the date format is invalid\n",
        "                        print(f\"Warning: Invalid date format - {date_str}\")\n",
        "                        continue  # Skip this row and move to the next\n",
        "            if order_date.year == 2021 and order_date.month == 10:\n",
        "                october_orders += 1\n",
        "\n",
        "print(f\"El número de pedidos realizados en octubre de 2021 es: {october_orders}\")\n",
        "#5\n",
        "import csv\n",
        "from os.path import exists\n",
        "from datetime import datetime\n",
        "from collections import defaultdict\n",
        "\n",
        "# Ruta del archivo de datos\n",
        "datafile = \"./sample_data/orders.csv\"\n",
        "\n",
        "# Verificar si el archivo existe\n",
        "if not exists(datafile):\n",
        "    raise SystemExit(\"¡El archivo no se encuentra!\")\n",
        "\n",
        "# Calcular el gasto total por cliente en 2021\n",
        "customer_spending = defaultdict(float)\n",
        "with open(datafile, 'r') as fl:\n",
        "    csvreader = csv.reader(fl, delimiter=',')\n",
        "    # Saltar la cabecera\n",
        "    next(csvreader)\n",
        "    for row in csvreader:\n",
        "        # Extraer y limpiar datos relevantes\n",
        "        customer_id = row[0].strip()  # CustomerID\n",
        "        date_str = row[2].strip()  # Fecha\n",
        "        order_total = float(row[3].strip())  # OrderTotal\n",
        "\n",
        "        try:\n",
        "            # Convertir la fecha al formato datetime\n",
        "            order_date = datetime.strptime(date_str, \"%Y-%m-%d %H:%M:%S.%f\")\n",
        "        except ValueError:\n",
        "            continue  # Saltar filas con formatos incorrectos\n",
        "\n",
        "        # Verificar si el pedido fue en 2021 y sumar al total del cliente\n",
        "        if order_date.year == 2021:\n",
        "            customer_spending[customer_id] += order_total\n",
        "\n",
        "# Encontrar el cliente con el mayor gasto\n",
        "top_customer = max(customer_spending, key=customer_spending.get)\n",
        "top_spending = customer_spending[top_customer]\n",
        "\n",
        "print(f\"El cliente que gastó la mayor cantidad de dinero en 2021 es: {top_customer} con un gasto de {top_spending:.2f}\")\n",
        "\n",
        "\n",
        "#6\n",
        "import csv\n",
        "from os.path import exists\n",
        "from collections import defaultdict\n",
        "from datetime import datetime\n",
        "\n",
        "# Verificar si el archivo existe y abrir el archivo\n",
        "datafile = \"./sample_data/orders.csv\"\n",
        "if not exists(datafile):\n",
        "    raise SystemExit(\"¡El archivo no se encuentra!\")\n",
        "\n",
        "# Calcular las ventas totales por mes\n",
        "monthly_sales = defaultdict(float)\n",
        "with open(datafile, 'r') as fl:\n",
        "    csvreader = csv.reader(fl, delimiter=',')\n",
        "    # Saltar la cabecera\n",
        "    next(csvreader)\n",
        "    # Calcular las ventas por mes\n",
        "    for row in csvreader:\n",
        "        # Check if the date string is empty before attempting to parse it\n",
        "        if row[2]:\n",
        "            try:\n",
        "                order_date = datetime.strptime(row[2], '%Y-%m-%d %H:%M:%S.%f')\n",
        "            except ValueError:\n",
        "                try:\n",
        "                    order_date = datetime.strptime(row[2], '%Y-%m-%d %H:%M:%S')\n",
        "                except ValueError:\n",
        "                    try:\n",
        "                        order_date = datetime.strptime(row[2], '%Y-%m-%d')\n",
        "                    except ValueError:\n",
        "                        # Handle the case where the date format is invalid\n",
        "                        continue  # Skip this row and move to the next\n",
        "\n",
        "            month_year = order_date.strftime('%Y-%m')\n",
        "            monthly_sales[month_year] += float(row[3])\n",
        "\n",
        "# Encontrar el mejor mes para las ventas\n",
        "best_month = max(monthly_sales, key=monthly_sales.get)\n",
        "best_sales = monthly_sales[best_month]\n",
        "\n",
        "print(f\"El mejor mes para las ventas es: {best_month} con ventas de {best_sales}\")"
      ]
    },
    {
      "cell_type": "markdown",
      "metadata": {
        "id": "ie0JW4FAk6Os"
      },
      "source": [
        "# Finished!\n",
        "\n",
        "Hope this was not too difficult and slicing and dicing the datasets was some fun. Now head on back to the course and provide the answers to the questions from this exercise."
      ]
    }
  ],
  "metadata": {
    "colab": {
      "name": "customers_and_orders.ipynb",
      "provenance": [],
      "history_visible": true
    },
    "kernelspec": {
      "display_name": "Python 3 (ipykernel)",
      "language": "python",
      "name": "python3"
    },
    "language_info": {
      "codemirror_mode": {
        "name": "ipython",
        "version": 3
      },
      "file_extension": ".py",
      "mimetype": "text/x-python",
      "name": "python",
      "nbconvert_exporter": "python",
      "pygments_lexer": "ipython3",
      "version": "3.9.9"
    }
  },
  "nbformat": 4,
  "nbformat_minor": 0
}